{
  "nbformat": 4,
  "nbformat_minor": 0,
  "metadata": {
    "colab": {
      "name": "CK+48_Bar_chart.ipynb",
      "provenance": [],
      "include_colab_link": true
    },
    "kernelspec": {
      "name": "python3",
      "display_name": "Python 3"
    }
  },
  "cells": [
    {
      "cell_type": "markdown",
      "metadata": {
        "id": "view-in-github",
        "colab_type": "text"
      },
      "source": [
        "<a href=\"https://colab.research.google.com/github/Ummepinki/Facial-Expressions-Recognition-from-image-using-Convolution-Neural-Network/blob/main/CK%2B48_Bar_chart.ipynb\" target=\"_parent\"><img src=\"https://colab.research.google.com/assets/colab-badge.svg\" alt=\"Open In Colab\"/></a>"
      ]
    },
    {
      "cell_type": "markdown",
      "metadata": {
        "id": "drxCXbnidhkS"
      },
      "source": [
        "# Mount "
      ]
    },
    {
      "cell_type": "code",
      "metadata": {
        "id": "i2UazNlyJOB_",
        "colab": {
          "base_uri": "https://localhost:8080/"
        },
        "outputId": "8217e709-3459-4ac4-ac50-4ad302d00a89"
      },
      "source": [
        "from google.colab import drive\n",
        "drive.mount('/content/drive')"
      ],
      "execution_count": null,
      "outputs": [
        {
          "output_type": "stream",
          "text": [
            "Mounted at /content/drive\n"
          ],
          "name": "stdout"
        }
      ]
    },
    {
      "cell_type": "markdown",
      "metadata": {
        "id": "VEg4VsqQdk4p"
      },
      "source": [
        "# Load Package"
      ]
    },
    {
      "cell_type": "code",
      "metadata": {
        "id": "rrM1c11zJfE3"
      },
      "source": [
        "import numpy as np\n",
        "import cv2\n",
        "from sklearn.preprocessing import MultiLabelBinarizer\n",
        "from sklearn.model_selection import train_test_split\n",
        "from keras.preprocessing.image import img_to_array\n",
        "from imutils import paths\n",
        "import matplotlib.pyplot as plt\n",
        "import os\n",
        "import pickle\n",
        "import random\n",
        "from keras.models import load_model\n",
        "import imutils\n",
        "import sys"
      ],
      "execution_count": null,
      "outputs": []
    },
    {
      "cell_type": "markdown",
      "metadata": {
        "id": "6yoM5vMndzma"
      },
      "source": [
        "# Model Test"
      ]
    },
    {
      "cell_type": "code",
      "metadata": {
        "id": "DqFIlKvcJjSG",
        "colab": {
          "base_uri": "https://localhost:8080/",
          "height": 284
        },
        "outputId": "6a53b866-3a44-4d25-9c8a-06a2b771a590"
      },
      "source": [
        "from keras.preprocessing.image import img_to_array\n",
        "from keras.models import load_model\n",
        "model_test = load_model('/content/drive/My Drive/Colab Notebooks/cnn.h5')\n",
        "image_test = ('/content/drive/My Drive/Dataset1/CK+48/surprise/S044_001_00000022.png')\n",
        "image_test = cv2.imread(image_test)\n",
        "orgimage=cv2.resize(image_test,(250,250))\n",
        "image = cv2.resize(image_test,(48,48))\n",
        "image = img_to_array(image)\n",
        "image_1 = np.array(image, dtype=\"float\") / 255.0\n",
        "image = np.expand_dims(image_1, axis=0)\n",
        "print(image.shape)\n",
        "plt.imshow(image_1)\n",
        "\n",
        "model_test.history"
      ],
      "execution_count": null,
      "outputs": [
        {
          "output_type": "stream",
          "text": [
            "(1, 48, 48, 3)\n"
          ],
          "name": "stdout"
        },
        {
          "output_type": "display_data",
          "data": {
            "image/png": "[encoded data removed]",
            "text/plain": [
              "<Figure size 432x288 with 1 Axes>"
            ]
          },
          "metadata": {
            "tags": [],
            "needs_background": "light"
          }
        }
      ]
    },
    {
      "cell_type": "markdown",
      "metadata": {
        "id": "QzKIwpIsd31B"
      },
      "source": [
        "# Show label"
      ]
    },
    {
      "cell_type": "code",
      "metadata": {
        "id": "9R3TkYQEJnCu",
        "colab": {
          "base_uri": "https://localhost:8080/"
        },
        "outputId": "3b1830e6-d186-427a-b986-c9ae5bda4ed7"
      },
      "source": [
        "emotions=[\"anger\",\"contempt\",\"disgust\",\"fear\",\"happy\",\"sadness\",\"surprise\"]\n",
        "prediction = model_test.predict(image)\n",
        "print(prediction)\n",
        "c_score=np.max(prediction)\n",
        "label=emotions[prediction.argmax()]\n",
        "print(c_score)\n",
        "print(label)"
      ],
      "execution_count": null,
      "outputs": [
        {
          "output_type": "stream",
          "text": [
            "WARNING:tensorflow:7 out of the last 11 calls to <function Model.make_predict_function.<locals>.predict_function at 0x7f9f7ee6a378> triggered tf.function retracing. Tracing is expensive and the excessive number of tracings could be due to (1) creating @tf.function repeatedly in a loop, (2) passing tensors with different shapes, (3) passing Python objects instead of tensors. For (1), please define your @tf.function outside of the loop. For (2), @tf.function has experimental_relax_shapes=True option that relaxes argument shapes that can avoid unnecessary retracing. For (3), please refer to https://www.tensorflow.org/tutorials/customization/performance#python_or_tensor_args and https://www.tensorflow.org/api_docs/python/tf/function for  more details.\n",
            "[[1.7399720e-06 3.9108513e-06 1.6998415e-07 1.2928865e-05 4.6809259e-06\n",
            "  1.4701772e-05 9.9996185e-01]]\n",
            "0.99996185\n",
            "surprise\n"
          ],
          "name": "stdout"
        }
      ]
    },
    {
      "cell_type": "markdown",
      "metadata": {
        "id": "3JZyoENpeqdy"
      },
      "source": [
        "# Image text"
      ]
    },
    {
      "cell_type": "code",
      "metadata": {
        "id": "O6S073FJJqom",
        "colab": {
          "base_uri": "https://localhost:8080/",
          "height": 284
        },
        "outputId": "69fee1c4-1d3b-4cfa-b02d-0fce76d001db"
      },
      "source": [
        "showText =  \"{}: {:.2f}%\".format(label, c_score * 100)\n",
        "#cv2.putText(image_test, showText, (2,5), cv2.FONT_HERSHEY_SIMPLEX, 0.45, (255, 0,0), 2)\n",
        "\n",
        "cv2.putText(image_test, showText, (2, 5), cv2.FONT_HERSHEY_PLAIN, 0.4, (255, 0, 0), 1) \n",
        "plt.imshow(image_test)"
      ],
      "execution_count": null,
      "outputs": [
        {
          "output_type": "execute_result",
          "data": {
            "text/plain": [
              "<matplotlib.image.AxesImage at 0x7f9f7c4b5668>"
            ]
          },
          "metadata": {
            "tags": []
          },
          "execution_count": 403
        },
        {
          "output_type": "display_data",
          "data": {
            "image/png": "[encoded data removed]",
            "text/plain": [
              "<Figure size 432x288 with 1 Axes>"
            ]
          },
          "metadata": {
            "tags": [],
            "needs_background": "light"
          }
        }
      ]
    },
    {
      "cell_type": "markdown",
      "metadata": {
        "id": "8u6FesQCfRZI"
      },
      "source": [
        "# Confidence score"
      ]
    },
    {
      "cell_type": "code",
      "metadata": {
        "id": "QWxDD2HoJ3MW",
        "colab": {
          "base_uri": "https://localhost:8080/",
          "height": 294
        },
        "outputId": "1f5f5a36-9cac-41c4-9dd2-1fe58d604c14"
      },
      "source": [
        "import matplotlib.pyplot as plt\n",
        "prediction=model_test.predict(image)\n",
        "emotions=[\"anger\",\"contempt\",\"disgust\",\"fear\",\"happy\",\"sadness\",\"surprise\"]\n",
        "index = np.arange(len(emotions))\n",
        "plt.bar(index, prediction[0])\n",
        "plt.xlabel('Genre', fontsize=10)\n",
        "plt.ylabel('Confidence Score', fontsize=10)\n",
        "plt.xticks(index, emotions, fontsize=8, rotation=0)\n",
        "plt.title('Confidence Score for Emotions')\n",
        "plt.show()"
      ],
      "execution_count": null,
      "outputs": [
        {
          "output_type": "display_data",
          "data": {
            "image/png": "[encoded data removed]",
            "text/plain": [
              "<Figure size 432x288 with 1 Axes>"
            ]
          },
          "metadata": {
            "tags": [],
            "needs_background": "light"
          }
        }
      ]
    }
  ]
}